{
 "cells": [
  {
   "cell_type": "code",
   "execution_count": 1,
   "id": "fbb1d796",
   "metadata": {},
   "outputs": [
    {
     "name": "stderr",
     "output_type": "stream",
     "text": [
      "C:\\Users\\mozwa\\anaconda3\\lib\\site-packages\\paramiko\\transport.py:219: CryptographyDeprecationWarning: Blowfish has been deprecated\n",
      "  \"class\": algorithms.Blowfish,\n"
     ]
    }
   ],
   "source": [
    "from huggingsound import SpeechRecognitionModel"
   ]
  },
  {
   "cell_type": "code",
   "execution_count": 2,
   "id": "f4d6926f",
   "metadata": {},
   "outputs": [
    {
     "name": "stdout",
     "output_type": "stream",
     "text": [
      "07/09/2023 20:21:01 - INFO - huggingsound.speech_recognition.model - Loading model...\n"
     ]
    },
    {
     "name": "stderr",
     "output_type": "stream",
     "text": [
      "C:\\Users\\mozwa\\anaconda3\\lib\\site-packages\\transformers\\configuration_utils.py:380: UserWarning: Passing `gradient_checkpointing` to a config initialization is deprecated and will be removed in v5 Transformers. Using `model.gradient_checkpointing_enable()` instead, or if you are using the `Trainer` API, pass `gradient_checkpointing=True` in your `TrainingArguments`.\n",
      "  warnings.warn(\n"
     ]
    }
   ],
   "source": [
    "model = SpeechRecognitionModel(\"jonatasgrosman/wav2vec2-large-xlsr-53-arabic\")"
   ]
  },
  {
   "cell_type": "code",
   "execution_count": 3,
   "id": "75f52d25",
   "metadata": {},
   "outputs": [],
   "source": [
    "audio_paths = [\"A_audio.wav\"]"
   ]
  },
  {
   "cell_type": "code",
   "execution_count": 4,
   "id": "e356bf17",
   "metadata": {},
   "outputs": [
    {
     "name": "stderr",
     "output_type": "stream",
     "text": [
      "100%|██████████| 1/1 [00:02<00:00,  2.81s/it]\n"
     ]
    }
   ],
   "source": [
    "transcriptions = model.transcribe(audio_paths)"
   ]
  },
  {
   "cell_type": "code",
   "execution_count": 5,
   "id": "bb859c09",
   "metadata": {},
   "outputs": [
    {
     "name": "stdout",
     "output_type": "stream",
     "text": [
      "حرف الباء\n"
     ]
    }
   ],
   "source": [
    "print(((transcriptions[0])['transcription']))"
   ]
  },
  {
   "cell_type": "code",
   "execution_count": null,
   "id": "adc28df0",
   "metadata": {},
   "outputs": [
    {
     "name": "stdout",
     "output_type": "stream",
     "text": [
      "waiting for a connection...\n"
     ]
    }
   ],
   "source": [
    "import socket\n",
    "\n",
    "# set up a TCP/IP socket\n",
    "sock = socket.socket(socket.AF_INET, socket.SOCK_STREAM)\n",
    "\n",
    "# set up the server address and port\n",
    "server_address = ('192.168.1.2', 9988)\n",
    "sock.bind(server_address)\n",
    "\n",
    "# listen for incoming connections\n",
    "sock.listen()\n",
    "\n",
    "while True:\n",
    "    # wait for a connection\n",
    "    print('waiting for a connection...')\n",
    "    connection, client_address = sock.accept()\n",
    "    print(f'connection from {client_address}')\n",
    "\n",
    "    # receive the audio data from the client\n",
    "    audio_data = connection.recv(1024*1024)\n",
    "    print(f'received {len(audio_data)} bytes of audio data')\n",
    "\n",
    "    # save the audio data as a file\n",
    "    with open('audio.wav', 'wb') as f:\n",
    "        f.write(audio_data)\n",
    "     \n",
    "    #########\n",
    "    audio_paths = [\"audio.wav\"]\n",
    "    transcriptions = model.transcribe(audio_paths)\n",
    "    print(((transcriptions[0])['transcription']))\n",
    "    #########\n",
    "    \n",
    "    # send a response back to the client\n",
    "    connection.sendall(((transcriptions[0])['transcription']).encode('utf-8'))\n",
    "\n",
    "    # close the connection\n",
    "    connection.close()"
   ]
  }
 ],
 "metadata": {
  "kernelspec": {
   "display_name": "Python 3 (ipykernel)",
   "language": "python",
   "name": "python3"
  },
  "language_info": {
   "codemirror_mode": {
    "name": "ipython",
    "version": 3
   },
   "file_extension": ".py",
   "mimetype": "text/x-python",
   "name": "python",
   "nbconvert_exporter": "python",
   "pygments_lexer": "ipython3",
   "version": "3.9.15"
  },
  "widgets": {
   "application/vnd.jupyter.widget-state+json": {
    "state": {
     "00e7d43909d6413e8355acc0423bdca6": {
      "model_module": "@jupyter-widgets/controls",
      "model_module_version": "1.5.0",
      "model_name": "HBoxModel",
      "state": {
       "children": [
        "IPY_MODEL_a67fbb1db2b542cdb1de9008163e78e1",
        "IPY_MODEL_6bcc047ac9224ac4b290dd4e3dd94090",
        "IPY_MODEL_1b2736edab164287986e7544b4413b5e"
       ],
       "layout": "IPY_MODEL_a5f0dd4183c54cc19e8bb0c09f6b1ac4"
      }
     },
     "0249bb474a724504b507f04810dc898b": {
      "model_module": "@jupyter-widgets/base",
      "model_module_version": "1.2.0",
      "model_name": "LayoutModel",
      "state": {}
     },
     "034833c03d574681b2066c4e93d5222e": {
      "model_module": "@jupyter-widgets/controls",
      "model_module_version": "1.5.0",
      "model_name": "DescriptionStyleModel",
      "state": {
       "description_width": ""
      }
     },
     "044ec51a1a2249c19cfa422c2f9e46dc": {
      "model_module": "@jupyter-widgets/controls",
      "model_module_version": "1.5.0",
      "model_name": "FloatProgressModel",
      "state": {
       "bar_style": "success",
       "layout": "IPY_MODEL_0e430c610efa498a816116781214b51e",
       "max": 85,
       "style": "IPY_MODEL_6cf42e08bbe7490e9e07b79583e98bfa",
       "value": 85
      }
     },
     "049aa688a0e94eb1a73c01067ad93b82": {
      "model_module": "@jupyter-widgets/base",
      "model_module_version": "1.2.0",
      "model_name": "LayoutModel",
      "state": {}
     },
     "06387c882dbf496baa8d69517a026c6e": {
      "model_module": "@jupyter-widgets/base",
      "model_module_version": "1.2.0",
      "model_name": "LayoutModel",
      "state": {}
     },
     "06d8b7e8bbf44993b8d294075af63553": {
      "model_module": "@jupyter-widgets/base",
      "model_module_version": "1.2.0",
      "model_name": "LayoutModel",
      "state": {}
     },
     "0a0aeed0286d410290640a9583c8ded1": {
      "model_module": "@jupyter-widgets/base",
      "model_module_version": "1.2.0",
      "model_name": "LayoutModel",
      "state": {}
     },
     "0c5eb6603bfd4761afaffc3a67fa627f": {
      "model_module": "@jupyter-widgets/base",
      "model_module_version": "1.2.0",
      "model_name": "LayoutModel",
      "state": {}
     },
     "0e430c610efa498a816116781214b51e": {
      "model_module": "@jupyter-widgets/base",
      "model_module_version": "1.2.0",
      "model_name": "LayoutModel",
      "state": {}
     },
     "10c053c695b14957baccecc82de203e4": {
      "model_module": "@jupyter-widgets/controls",
      "model_module_version": "1.5.0",
      "model_name": "HTMLModel",
      "state": {
       "layout": "IPY_MODEL_d4c9de37fc8c4ac28e260acbefbb5f16",
       "style": "IPY_MODEL_a95e9258e6aa47eea2445eeafe2e77be",
       "value": " 1.26G/1.26G [08:22&lt;00:00, 2.67MB/s]"
      }
     },
     "11471fa4690843d288aedf5a23a7d482": {
      "model_module": "@jupyter-widgets/base",
      "model_module_version": "1.2.0",
      "model_name": "LayoutModel",
      "state": {}
     },
     "185331f0c01445259ff93aa59a0ed01e": {
      "model_module": "@jupyter-widgets/base",
      "model_module_version": "1.2.0",
      "model_name": "LayoutModel",
      "state": {}
     },
     "1b2736edab164287986e7544b4413b5e": {
      "model_module": "@jupyter-widgets/controls",
      "model_module_version": "1.5.0",
      "model_name": "HTMLModel",
      "state": {
       "layout": "IPY_MODEL_2c6b7d00ad424b93972d30d64eaed7e9",
       "style": "IPY_MODEL_a061ce33ba9a46db891a48e4dba9b0b7",
       "value": " 1.53k/1.53k [00:00&lt;00:00, 43.8kB/s]"
      }
     },
     "1ec5f24c9c184181944de28663a147f5": {
      "model_module": "@jupyter-widgets/base",
      "model_module_version": "1.2.0",
      "model_name": "LayoutModel",
      "state": {}
     },
     "21f2f8f064cb4993b831886ff15c5f5b": {
      "model_module": "@jupyter-widgets/controls",
      "model_module_version": "1.5.0",
      "model_name": "HTMLModel",
      "state": {
       "layout": "IPY_MODEL_06387c882dbf496baa8d69517a026c6e",
       "style": "IPY_MODEL_92e32fb62cdc4feda4234c152472ab7d",
       "value": "Downloading (…)olve/main/vocab.json: 100%"
      }
     },
     "29fd8b7033aa4823b2787b8d54d0744b": {
      "model_module": "@jupyter-widgets/controls",
      "model_module_version": "1.5.0",
      "model_name": "DescriptionStyleModel",
      "state": {
       "description_width": ""
      }
     },
     "2c6b7d00ad424b93972d30d64eaed7e9": {
      "model_module": "@jupyter-widgets/base",
      "model_module_version": "1.2.0",
      "model_name": "LayoutModel",
      "state": {}
     },
     "2ea7f0aa946b4d6c90cfe2dce4f0cf0b": {
      "model_module": "@jupyter-widgets/controls",
      "model_module_version": "1.5.0",
      "model_name": "ProgressStyleModel",
      "state": {
       "description_width": ""
      }
     },
     "3341c5b4d6e14e4bbd214516611d3d15": {
      "model_module": "@jupyter-widgets/controls",
      "model_module_version": "1.5.0",
      "model_name": "HTMLModel",
      "state": {
       "layout": "IPY_MODEL_eaf76c2a382c4af2914139d0c368d53f",
       "style": "IPY_MODEL_5df7598831264b48805b25c3ee7f22a9",
       "value": " 262/262 [00:00&lt;00:00, 8.33kB/s]"
      }
     },
     "33c1ddfaacc149038c80a1aa963bb188": {
      "model_module": "@jupyter-widgets/controls",
      "model_module_version": "1.5.0",
      "model_name": "DescriptionStyleModel",
      "state": {
       "description_width": ""
      }
     },
     "3ab2e204a1124981b9fbdb8c21aeb11a": {
      "model_module": "@jupyter-widgets/base",
      "model_module_version": "1.2.0",
      "model_name": "LayoutModel",
      "state": {}
     },
     "3cf0566a718b412d83deaaad5e390e54": {
      "model_module": "@jupyter-widgets/base",
      "model_module_version": "1.2.0",
      "model_name": "LayoutModel",
      "state": {}
     },
     "3db513ab339a4e0599e9a256620f050d": {
      "model_module": "@jupyter-widgets/controls",
      "model_module_version": "1.5.0",
      "model_name": "HTMLModel",
      "state": {
       "layout": "IPY_MODEL_9970071a99bc4dbe91c8050ff62e87d7",
       "style": "IPY_MODEL_e0ce1635632946a5a8f5ed50859bb4bb",
       "value": "Downloading (…)cial_tokens_map.json: 100%"
      }
     },
     "3df3e98a818f4aedaaa2df5d3078a1e6": {
      "model_module": "@jupyter-widgets/base",
      "model_module_version": "1.2.0",
      "model_name": "LayoutModel",
      "state": {}
     },
     "3e9d5cd09a174fce926f9be37aeee551": {
      "model_module": "@jupyter-widgets/base",
      "model_module_version": "1.2.0",
      "model_name": "LayoutModel",
      "state": {}
     },
     "42cdd6bbdf0b481c99963db7d39d055c": {
      "model_module": "@jupyter-widgets/base",
      "model_module_version": "1.2.0",
      "model_name": "LayoutModel",
      "state": {}
     },
     "48915b7f3dd145da9785364c6f773e07": {
      "model_module": "@jupyter-widgets/controls",
      "model_module_version": "1.5.0",
      "model_name": "HTMLModel",
      "state": {
       "layout": "IPY_MODEL_1ec5f24c9c184181944de28663a147f5",
       "style": "IPY_MODEL_7364d9e2380f45f6b2f52e35d459a58d",
       "value": "Downloading (…)lve/main/config.json: 100%"
      }
     },
     "4b1fa27b2e304ca39c684a2e80dffbce": {
      "model_module": "@jupyter-widgets/controls",
      "model_module_version": "1.5.0",
      "model_name": "HTMLModel",
      "state": {
       "layout": "IPY_MODEL_a836c6ba9f7147da88319db99e1da243",
       "style": "IPY_MODEL_6c7c172fce374d85880d84431e4a759f",
       "value": " 507/507 [00:00&lt;00:00, 30.7kB/s]"
      }
     },
     "4bd8a794fd94471b8cfbed4dc8b4606d": {
      "model_module": "@jupyter-widgets/controls",
      "model_module_version": "1.5.0",
      "model_name": "FloatProgressModel",
      "state": {
       "bar_style": "success",
       "layout": "IPY_MODEL_72c3c57c13644f92913fb9dd15053844",
       "max": 1261942732,
       "style": "IPY_MODEL_cf76a642fb184f5abdf1f141be1090ca",
       "value": 1261942732
      }
     },
     "512159067f97481385a2715440478ec9": {
      "model_module": "@jupyter-widgets/controls",
      "model_module_version": "1.5.0",
      "model_name": "FloatProgressModel",
      "state": {
       "bar_style": "success",
       "layout": "IPY_MODEL_9648482d28fd4b9fb2af23206034e21f",
       "max": 85,
       "style": "IPY_MODEL_953f7b72202646118bce6982d08970b6",
       "value": 85
      }
     },
     "522b49c23b7f4877a4376fe15035c0a2": {
      "model_module": "@jupyter-widgets/base",
      "model_module_version": "1.2.0",
      "model_name": "LayoutModel",
      "state": {}
     },
     "532be7dcdd4d4a9ba0d18dc14b7d586a": {
      "model_module": "@jupyter-widgets/controls",
      "model_module_version": "1.5.0",
      "model_name": "HTMLModel",
      "state": {
       "layout": "IPY_MODEL_ad910912ac0d4b9f94ea7c88dd0ea25f",
       "style": "IPY_MODEL_60064383f1a244638bfa51980805713b",
       "value": "Downloading model.safetensors: 100%"
      }
     },
     "5641cf45d41b40b78326282a539889a7": {
      "model_module": "@jupyter-widgets/base",
      "model_module_version": "1.2.0",
      "model_name": "LayoutModel",
      "state": {}
     },
     "56c53eeb27224712adb6e5ea027693d0": {
      "model_module": "@jupyter-widgets/controls",
      "model_module_version": "1.5.0",
      "model_name": "DescriptionStyleModel",
      "state": {
       "description_width": ""
      }
     },
     "57ea65852a87425086cb5f6b26c1d4ec": {
      "model_module": "@jupyter-widgets/base",
      "model_module_version": "1.2.0",
      "model_name": "LayoutModel",
      "state": {}
     },
     "5df7598831264b48805b25c3ee7f22a9": {
      "model_module": "@jupyter-widgets/controls",
      "model_module_version": "1.5.0",
      "model_name": "DescriptionStyleModel",
      "state": {
       "description_width": ""
      }
     },
     "60064383f1a244638bfa51980805713b": {
      "model_module": "@jupyter-widgets/controls",
      "model_module_version": "1.5.0",
      "model_name": "DescriptionStyleModel",
      "state": {
       "description_width": ""
      }
     },
     "64ac4695812e4deab2aba54b0b470ffe": {
      "model_module": "@jupyter-widgets/controls",
      "model_module_version": "1.5.0",
      "model_name": "HTMLModel",
      "state": {
       "layout": "IPY_MODEL_0a0aeed0286d410290640a9583c8ded1",
       "style": "IPY_MODEL_29fd8b7033aa4823b2787b8d54d0744b",
       "value": "Downloading (…)rocessor_config.json: 100%"
      }
     },
     "6bcc047ac9224ac4b290dd4e3dd94090": {
      "model_module": "@jupyter-widgets/controls",
      "model_module_version": "1.5.0",
      "model_name": "FloatProgressModel",
      "state": {
       "bar_style": "success",
       "layout": "IPY_MODEL_3cf0566a718b412d83deaaad5e390e54",
       "max": 1531,
       "style": "IPY_MODEL_2ea7f0aa946b4d6c90cfe2dce4f0cf0b",
       "value": 1531
      }
     },
     "6c7c172fce374d85880d84431e4a759f": {
      "model_module": "@jupyter-widgets/controls",
      "model_module_version": "1.5.0",
      "model_name": "DescriptionStyleModel",
      "state": {
       "description_width": ""
      }
     },
     "6cf42e08bbe7490e9e07b79583e98bfa": {
      "model_module": "@jupyter-widgets/controls",
      "model_module_version": "1.5.0",
      "model_name": "ProgressStyleModel",
      "state": {
       "description_width": ""
      }
     },
     "6d671078c32745b580a3f72c664ec203": {
      "model_module": "@jupyter-widgets/controls",
      "model_module_version": "1.5.0",
      "model_name": "DescriptionStyleModel",
      "state": {
       "description_width": ""
      }
     },
     "70fbba479f624f9a9f221b40d22df17d": {
      "model_module": "@jupyter-widgets/controls",
      "model_module_version": "1.5.0",
      "model_name": "FloatProgressModel",
      "state": {
       "bar_style": "success",
       "layout": "IPY_MODEL_e2705a8949894d56a89572f1509d52a3",
       "max": 262,
       "style": "IPY_MODEL_96505e5bed2540b3902235d6aeae92e1",
       "value": 262
      }
     },
     "72c3c57c13644f92913fb9dd15053844": {
      "model_module": "@jupyter-widgets/base",
      "model_module_version": "1.2.0",
      "model_name": "LayoutModel",
      "state": {}
     },
     "7364d9e2380f45f6b2f52e35d459a58d": {
      "model_module": "@jupyter-widgets/controls",
      "model_module_version": "1.5.0",
      "model_name": "DescriptionStyleModel",
      "state": {
       "description_width": ""
      }
     },
     "74bfa11d705f4715a23f566974a91090": {
      "model_module": "@jupyter-widgets/controls",
      "model_module_version": "1.5.0",
      "model_name": "HBoxModel",
      "state": {
       "children": [
        "IPY_MODEL_64ac4695812e4deab2aba54b0b470ffe",
        "IPY_MODEL_bc268586262140a4b3dda6015bd2bdac",
        "IPY_MODEL_e518adfcb0d64bd7b6e46c1338eb689f"
       ],
       "layout": "IPY_MODEL_522b49c23b7f4877a4376fe15035c0a2"
      }
     },
     "75b21081fc494a5289f74a941844b19c": {
      "model_module": "@jupyter-widgets/controls",
      "model_module_version": "1.5.0",
      "model_name": "ProgressStyleModel",
      "state": {
       "description_width": ""
      }
     },
     "79c774030d8f47fd87b7a401335515d0": {
      "model_module": "@jupyter-widgets/base",
      "model_module_version": "1.2.0",
      "model_name": "LayoutModel",
      "state": {}
     },
     "7a0eb2754c04485cab6cb4ee8b220f4b": {
      "model_module": "@jupyter-widgets/controls",
      "model_module_version": "1.5.0",
      "model_name": "DescriptionStyleModel",
      "state": {
       "description_width": ""
      }
     },
     "82e5d20c02e14870bf5324f92435eca3": {
      "model_module": "@jupyter-widgets/controls",
      "model_module_version": "1.5.0",
      "model_name": "FloatProgressModel",
      "state": {
       "bar_style": "success",
       "layout": "IPY_MODEL_ba0f8fe5ce954ce7b7ee7589269eab45",
       "max": 1565,
       "style": "IPY_MODEL_bd6a6045bfc14ff09f11ce301eed6d0d",
       "value": 1565
      }
     },
     "85318c9d741b477db6e2e630cf487b4b": {
      "model_module": "@jupyter-widgets/controls",
      "model_module_version": "1.5.0",
      "model_name": "HTMLModel",
      "state": {
       "layout": "IPY_MODEL_06d8b7e8bbf44993b8d294075af63553",
       "style": "IPY_MODEL_e31c176f1d13467fae3ef05369dafdbd",
       "value": " 1.56k/1.56k [00:00&lt;00:00, 31.3kB/s]"
      }
     },
     "87317e8150494bb0a8c4a23d8f800a3b": {
      "model_module": "@jupyter-widgets/controls",
      "model_module_version": "1.5.0",
      "model_name": "HTMLModel",
      "state": {
       "layout": "IPY_MODEL_3df3e98a818f4aedaaa2df5d3078a1e6",
       "style": "IPY_MODEL_33c1ddfaacc149038c80a1aa963bb188",
       "value": "Downloading (…)rocessor_config.json: 100%"
      }
     },
     "88952ca9c9014abc97584e052da55377": {
      "model_module": "@jupyter-widgets/controls",
      "model_module_version": "1.5.0",
      "model_name": "HBoxModel",
      "state": {
       "children": [
        "IPY_MODEL_f79b6ead87d14e24ba3c2e61a8144893",
        "IPY_MODEL_512159067f97481385a2715440478ec9",
        "IPY_MODEL_cecd245d72134994b5a2e49476c0994c"
       ],
       "layout": "IPY_MODEL_b66ae103c5994167b3da5d9191c7d0e0"
      }
     },
     "89c6d741e47447fdab487ac32837ca37": {
      "model_module": "@jupyter-widgets/controls",
      "model_module_version": "1.5.0",
      "model_name": "FloatProgressModel",
      "state": {
       "bar_style": "success",
       "layout": "IPY_MODEL_9e654b3974514ea98d31b4e37fc4f059",
       "max": 507,
       "style": "IPY_MODEL_ff2c636c90204152848005264dde0662",
       "value": 507
      }
     },
     "8f1c974afd864846aada0c62262f456b": {
      "model_module": "@jupyter-widgets/controls",
      "model_module_version": "1.5.0",
      "model_name": "HBoxModel",
      "state": {
       "children": [
        "IPY_MODEL_87317e8150494bb0a8c4a23d8f800a3b",
        "IPY_MODEL_70fbba479f624f9a9f221b40d22df17d",
        "IPY_MODEL_3341c5b4d6e14e4bbd214516611d3d15"
       ],
       "layout": "IPY_MODEL_5641cf45d41b40b78326282a539889a7"
      }
     },
     "92e32fb62cdc4feda4234c152472ab7d": {
      "model_module": "@jupyter-widgets/controls",
      "model_module_version": "1.5.0",
      "model_name": "DescriptionStyleModel",
      "state": {
       "description_width": ""
      }
     },
     "953f7b72202646118bce6982d08970b6": {
      "model_module": "@jupyter-widgets/controls",
      "model_module_version": "1.5.0",
      "model_name": "ProgressStyleModel",
      "state": {
       "description_width": ""
      }
     },
     "9648482d28fd4b9fb2af23206034e21f": {
      "model_module": "@jupyter-widgets/base",
      "model_module_version": "1.2.0",
      "model_name": "LayoutModel",
      "state": {}
     },
     "96505e5bed2540b3902235d6aeae92e1": {
      "model_module": "@jupyter-widgets/controls",
      "model_module_version": "1.5.0",
      "model_name": "ProgressStyleModel",
      "state": {
       "description_width": ""
      }
     },
     "97be0c326d6e4f50b828dc1b263b094d": {
      "model_module": "@jupyter-widgets/base",
      "model_module_version": "1.2.0",
      "model_name": "LayoutModel",
      "state": {}
     },
     "98325ec6c3b245bf8c8def2cce9bd75c": {
      "model_module": "@jupyter-widgets/controls",
      "model_module_version": "1.5.0",
      "model_name": "HTMLModel",
      "state": {
       "layout": "IPY_MODEL_3ab2e204a1124981b9fbdb8c21aeb11a",
       "style": "IPY_MODEL_6d671078c32745b580a3f72c664ec203",
       "value": " 1.26G/1.26G [08:02&lt;00:00, 2.86MB/s]"
      }
     },
     "99220dec1ec943c3b67d5b2dd34cb80e": {
      "model_module": "@jupyter-widgets/controls",
      "model_module_version": "1.5.0",
      "model_name": "FloatProgressModel",
      "state": {
       "bar_style": "success",
       "layout": "IPY_MODEL_e2b66f924d4a4e619e9685a6f1dda0c2",
       "max": 300,
       "style": "IPY_MODEL_a6d1f20a8d4b413d9d792bc468160fcc",
       "value": 300
      }
     },
     "9970071a99bc4dbe91c8050ff62e87d7": {
      "model_module": "@jupyter-widgets/base",
      "model_module_version": "1.2.0",
      "model_name": "LayoutModel",
      "state": {}
     },
     "9e654b3974514ea98d31b4e37fc4f059": {
      "model_module": "@jupyter-widgets/base",
      "model_module_version": "1.2.0",
      "model_name": "LayoutModel",
      "state": {}
     },
     "9e85d2cdd5804c32876d34ba3eabd77d": {
      "model_module": "@jupyter-widgets/controls",
      "model_module_version": "1.5.0",
      "model_name": "HTMLModel",
      "state": {
       "layout": "IPY_MODEL_3e9d5cd09a174fce926f9be37aeee551",
       "style": "IPY_MODEL_ff39be73df1e4586b6b487787f248b7f",
       "value": " 300/300 [00:00&lt;00:00, 22.7kB/s]"
      }
     },
     "a061ce33ba9a46db891a48e4dba9b0b7": {
      "model_module": "@jupyter-widgets/controls",
      "model_module_version": "1.5.0",
      "model_name": "DescriptionStyleModel",
      "state": {
       "description_width": ""
      }
     },
     "a413db2a532e4b03b0083853e472abd5": {
      "model_module": "@jupyter-widgets/controls",
      "model_module_version": "1.5.0",
      "model_name": "HTMLModel",
      "state": {
       "layout": "IPY_MODEL_79c774030d8f47fd87b7a401335515d0",
       "style": "IPY_MODEL_56c53eeb27224712adb6e5ea027693d0",
       "value": "Downloading (…)olve/main/vocab.json: 100%"
      }
     },
     "a4b0bc56e0124f3f81cc01ff09f652bb": {
      "model_module": "@jupyter-widgets/base",
      "model_module_version": "1.2.0",
      "model_name": "LayoutModel",
      "state": {}
     },
     "a5f0dd4183c54cc19e8bb0c09f6b1ac4": {
      "model_module": "@jupyter-widgets/base",
      "model_module_version": "1.2.0",
      "model_name": "LayoutModel",
      "state": {}
     },
     "a67fbb1db2b542cdb1de9008163e78e1": {
      "model_module": "@jupyter-widgets/controls",
      "model_module_version": "1.5.0",
      "model_name": "HTMLModel",
      "state": {
       "layout": "IPY_MODEL_42cdd6bbdf0b481c99963db7d39d055c",
       "style": "IPY_MODEL_f5ec2abdf1de4b16b3860e25bab99bb7",
       "value": "Downloading (…)lve/main/config.json: 100%"
      }
     },
     "a6d1f20a8d4b413d9d792bc468160fcc": {
      "model_module": "@jupyter-widgets/controls",
      "model_module_version": "1.5.0",
      "model_name": "ProgressStyleModel",
      "state": {
       "description_width": ""
      }
     },
     "a7ef762725f846ee89e51fb14958721b": {
      "model_module": "@jupyter-widgets/controls",
      "model_module_version": "1.5.0",
      "model_name": "HBoxModel",
      "state": {
       "children": [
        "IPY_MODEL_21f2f8f064cb4993b831886ff15c5f5b",
        "IPY_MODEL_89c6d741e47447fdab487ac32837ca37",
        "IPY_MODEL_4b1fa27b2e304ca39c684a2e80dffbce"
       ],
       "layout": "IPY_MODEL_e254dffc5fb94c9fb35b94f0ed359fd8"
      }
     },
     "a836c6ba9f7147da88319db99e1da243": {
      "model_module": "@jupyter-widgets/base",
      "model_module_version": "1.2.0",
      "model_name": "LayoutModel",
      "state": {}
     },
     "a95e9258e6aa47eea2445eeafe2e77be": {
      "model_module": "@jupyter-widgets/controls",
      "model_module_version": "1.5.0",
      "model_name": "DescriptionStyleModel",
      "state": {
       "description_width": ""
      }
     },
     "ad910912ac0d4b9f94ea7c88dd0ea25f": {
      "model_module": "@jupyter-widgets/base",
      "model_module_version": "1.2.0",
      "model_name": "LayoutModel",
      "state": {}
     },
     "ae0784fd162d4ba4b60ae85fd6e932e6": {
      "model_module": "@jupyter-widgets/base",
      "model_module_version": "1.2.0",
      "model_name": "LayoutModel",
      "state": {}
     },
     "b0237bc578974f9a998df9fe36af9f48": {
      "model_module": "@jupyter-widgets/controls",
      "model_module_version": "1.5.0",
      "model_name": "HBoxModel",
      "state": {
       "children": [
        "IPY_MODEL_3db513ab339a4e0599e9a256620f050d",
        "IPY_MODEL_044ec51a1a2249c19cfa422c2f9e46dc",
        "IPY_MODEL_c0cdecbfa33e4fa281db651e6fb7c610"
       ],
       "layout": "IPY_MODEL_97be0c326d6e4f50b828dc1b263b094d"
      }
     },
     "b2b4435434644d90810240210c424625": {
      "model_module": "@jupyter-widgets/controls",
      "model_module_version": "1.5.0",
      "model_name": "DescriptionStyleModel",
      "state": {
       "description_width": ""
      }
     },
     "b2d89833cb724487be635452c5cf907b": {
      "model_module": "@jupyter-widgets/controls",
      "model_module_version": "1.5.0",
      "model_name": "HBoxModel",
      "state": {
       "children": [
        "IPY_MODEL_48915b7f3dd145da9785364c6f773e07",
        "IPY_MODEL_82e5d20c02e14870bf5324f92435eca3",
        "IPY_MODEL_85318c9d741b477db6e2e630cf487b4b"
       ],
       "layout": "IPY_MODEL_57ea65852a87425086cb5f6b26c1d4ec"
      }
     },
     "b2e2c26921fe443dbab520b2a4d68ad5": {
      "model_module": "@jupyter-widgets/base",
      "model_module_version": "1.2.0",
      "model_name": "LayoutModel",
      "state": {}
     },
     "b2eb62f891a24432b47dba73079bf32c": {
      "model_module": "@jupyter-widgets/controls",
      "model_module_version": "1.5.0",
      "model_name": "HBoxModel",
      "state": {
       "children": [
        "IPY_MODEL_c1d5426149cb43d8a53d0127e55fce7a",
        "IPY_MODEL_c42fc0ac79584269916d7846abf88f5e",
        "IPY_MODEL_98325ec6c3b245bf8c8def2cce9bd75c"
       ],
       "layout": "IPY_MODEL_ae0784fd162d4ba4b60ae85fd6e932e6"
      }
     },
     "b527b1dbb86e421ea34002a2f89f9d3e": {
      "model_module": "@jupyter-widgets/base",
      "model_module_version": "1.2.0",
      "model_name": "LayoutModel",
      "state": {}
     },
     "b66ae103c5994167b3da5d9191c7d0e0": {
      "model_module": "@jupyter-widgets/base",
      "model_module_version": "1.2.0",
      "model_name": "LayoutModel",
      "state": {}
     },
     "ba0f8fe5ce954ce7b7ee7589269eab45": {
      "model_module": "@jupyter-widgets/base",
      "model_module_version": "1.2.0",
      "model_name": "LayoutModel",
      "state": {}
     },
     "bc268586262140a4b3dda6015bd2bdac": {
      "model_module": "@jupyter-widgets/controls",
      "model_module_version": "1.5.0",
      "model_name": "FloatProgressModel",
      "state": {
       "bar_style": "success",
       "layout": "IPY_MODEL_049aa688a0e94eb1a73c01067ad93b82",
       "max": 158,
       "style": "IPY_MODEL_e0fddbbcd97a41a9a8b210e0d2568fd8",
       "value": 158
      }
     },
     "bd6a6045bfc14ff09f11ce301eed6d0d": {
      "model_module": "@jupyter-widgets/controls",
      "model_module_version": "1.5.0",
      "model_name": "ProgressStyleModel",
      "state": {
       "description_width": ""
      }
     },
     "c0cdecbfa33e4fa281db651e6fb7c610": {
      "model_module": "@jupyter-widgets/controls",
      "model_module_version": "1.5.0",
      "model_name": "HTMLModel",
      "state": {
       "layout": "IPY_MODEL_11471fa4690843d288aedf5a23a7d482",
       "style": "IPY_MODEL_d9269719c9f149d69f22d7502e42b636",
       "value": " 85.0/85.0 [00:00&lt;00:00, 5.43kB/s]"
      }
     },
     "c1d5426149cb43d8a53d0127e55fce7a": {
      "model_module": "@jupyter-widgets/controls",
      "model_module_version": "1.5.0",
      "model_name": "HTMLModel",
      "state": {
       "layout": "IPY_MODEL_b2e2c26921fe443dbab520b2a4d68ad5",
       "style": "IPY_MODEL_d8085ed2bd2e4899a8414cd403b7ecb8",
       "value": "Downloading pytorch_model.bin: 100%"
      }
     },
     "c42fc0ac79584269916d7846abf88f5e": {
      "model_module": "@jupyter-widgets/controls",
      "model_module_version": "1.5.0",
      "model_name": "FloatProgressModel",
      "state": {
       "bar_style": "success",
       "layout": "IPY_MODEL_0249bb474a724504b507f04810dc898b",
       "max": 1262142936,
       "style": "IPY_MODEL_75b21081fc494a5289f74a941844b19c",
       "value": 1262142936
      }
     },
     "cecd245d72134994b5a2e49476c0994c": {
      "model_module": "@jupyter-widgets/controls",
      "model_module_version": "1.5.0",
      "model_name": "HTMLModel",
      "state": {
       "layout": "IPY_MODEL_dd84cfd9a21f48d6813dcc07bc32a2bb",
       "style": "IPY_MODEL_b2b4435434644d90810240210c424625",
       "value": " 85.0/85.0 [00:00&lt;00:00, 5.44kB/s]"
      }
     },
     "cf76a642fb184f5abdf1f141be1090ca": {
      "model_module": "@jupyter-widgets/controls",
      "model_module_version": "1.5.0",
      "model_name": "ProgressStyleModel",
      "state": {
       "description_width": ""
      }
     },
     "d4c9de37fc8c4ac28e260acbefbb5f16": {
      "model_module": "@jupyter-widgets/base",
      "model_module_version": "1.2.0",
      "model_name": "LayoutModel",
      "state": {}
     },
     "d8085ed2bd2e4899a8414cd403b7ecb8": {
      "model_module": "@jupyter-widgets/controls",
      "model_module_version": "1.5.0",
      "model_name": "DescriptionStyleModel",
      "state": {
       "description_width": ""
      }
     },
     "d9269719c9f149d69f22d7502e42b636": {
      "model_module": "@jupyter-widgets/controls",
      "model_module_version": "1.5.0",
      "model_name": "DescriptionStyleModel",
      "state": {
       "description_width": ""
      }
     },
     "dd84cfd9a21f48d6813dcc07bc32a2bb": {
      "model_module": "@jupyter-widgets/base",
      "model_module_version": "1.2.0",
      "model_name": "LayoutModel",
      "state": {}
     },
     "e0ce1635632946a5a8f5ed50859bb4bb": {
      "model_module": "@jupyter-widgets/controls",
      "model_module_version": "1.5.0",
      "model_name": "DescriptionStyleModel",
      "state": {
       "description_width": ""
      }
     },
     "e0fddbbcd97a41a9a8b210e0d2568fd8": {
      "model_module": "@jupyter-widgets/controls",
      "model_module_version": "1.5.0",
      "model_name": "ProgressStyleModel",
      "state": {
       "description_width": ""
      }
     },
     "e176f68ec99c425f94cf3aee984a2810": {
      "model_module": "@jupyter-widgets/controls",
      "model_module_version": "1.5.0",
      "model_name": "HBoxModel",
      "state": {
       "children": [
        "IPY_MODEL_a413db2a532e4b03b0083853e472abd5",
        "IPY_MODEL_99220dec1ec943c3b67d5b2dd34cb80e",
        "IPY_MODEL_9e85d2cdd5804c32876d34ba3eabd77d"
       ],
       "layout": "IPY_MODEL_a4b0bc56e0124f3f81cc01ff09f652bb"
      }
     },
     "e254dffc5fb94c9fb35b94f0ed359fd8": {
      "model_module": "@jupyter-widgets/base",
      "model_module_version": "1.2.0",
      "model_name": "LayoutModel",
      "state": {}
     },
     "e2705a8949894d56a89572f1509d52a3": {
      "model_module": "@jupyter-widgets/base",
      "model_module_version": "1.2.0",
      "model_name": "LayoutModel",
      "state": {}
     },
     "e2b66f924d4a4e619e9685a6f1dda0c2": {
      "model_module": "@jupyter-widgets/base",
      "model_module_version": "1.2.0",
      "model_name": "LayoutModel",
      "state": {}
     },
     "e31c176f1d13467fae3ef05369dafdbd": {
      "model_module": "@jupyter-widgets/controls",
      "model_module_version": "1.5.0",
      "model_name": "DescriptionStyleModel",
      "state": {
       "description_width": ""
      }
     },
     "e4e85e5167b6473ba9e7e8d7404409f8": {
      "model_module": "@jupyter-widgets/controls",
      "model_module_version": "1.5.0",
      "model_name": "HBoxModel",
      "state": {
       "children": [
        "IPY_MODEL_532be7dcdd4d4a9ba0d18dc14b7d586a",
        "IPY_MODEL_4bd8a794fd94471b8cfbed4dc8b4606d",
        "IPY_MODEL_10c053c695b14957baccecc82de203e4"
       ],
       "layout": "IPY_MODEL_b527b1dbb86e421ea34002a2f89f9d3e"
      }
     },
     "e518adfcb0d64bd7b6e46c1338eb689f": {
      "model_module": "@jupyter-widgets/controls",
      "model_module_version": "1.5.0",
      "model_name": "HTMLModel",
      "state": {
       "layout": "IPY_MODEL_185331f0c01445259ff93aa59a0ed01e",
       "style": "IPY_MODEL_034833c03d574681b2066c4e93d5222e",
       "value": " 158/158 [00:00&lt;00:00, 4.38kB/s]"
      }
     },
     "eaf76c2a382c4af2914139d0c368d53f": {
      "model_module": "@jupyter-widgets/base",
      "model_module_version": "1.2.0",
      "model_name": "LayoutModel",
      "state": {}
     },
     "f5ec2abdf1de4b16b3860e25bab99bb7": {
      "model_module": "@jupyter-widgets/controls",
      "model_module_version": "1.5.0",
      "model_name": "DescriptionStyleModel",
      "state": {
       "description_width": ""
      }
     },
     "f79b6ead87d14e24ba3c2e61a8144893": {
      "model_module": "@jupyter-widgets/controls",
      "model_module_version": "1.5.0",
      "model_name": "HTMLModel",
      "state": {
       "layout": "IPY_MODEL_0c5eb6603bfd4761afaffc3a67fa627f",
       "style": "IPY_MODEL_7a0eb2754c04485cab6cb4ee8b220f4b",
       "value": "Downloading (…)cial_tokens_map.json: 100%"
      }
     },
     "ff2c636c90204152848005264dde0662": {
      "model_module": "@jupyter-widgets/controls",
      "model_module_version": "1.5.0",
      "model_name": "ProgressStyleModel",
      "state": {
       "description_width": ""
      }
     },
     "ff39be73df1e4586b6b487787f248b7f": {
      "model_module": "@jupyter-widgets/controls",
      "model_module_version": "1.5.0",
      "model_name": "DescriptionStyleModel",
      "state": {
       "description_width": ""
      }
     }
    },
    "version_major": 2,
    "version_minor": 0
   }
  }
 },
 "nbformat": 4,
 "nbformat_minor": 5
}
